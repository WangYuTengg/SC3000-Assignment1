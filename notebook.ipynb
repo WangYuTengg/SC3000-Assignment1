{
 "cells": [
  {
   "cell_type": "code",
   "execution_count": 41,
   "metadata": {},
   "outputs": [],
   "source": [
    "# Import necessary libraries and packages\n",
    "import json\n",
    "import heapq"
   ]
  },
  {
   "cell_type": "code",
   "execution_count": 42,
   "metadata": {},
   "outputs": [],
   "source": [
    "# Load json files\n",
    "def load_json_file(filename):\n",
    "    with open(filename, 'r') as file:\n",
    "        data = json.load(file)\n",
    "    return data\n",
    "\n",
    "Cost = load_json_file(\"Cost.json\")\n",
    "G = load_json_file(\"G.json\")\n",
    "Coord = load_json_file(\"Coord.json\")\n",
    "Dist = load_json_file(\"Dist.json\")"
   ]
  },
  {
   "cell_type": "markdown",
   "metadata": {},
   "source": [
    "## Understanding the data "
   ]
  },
  {
   "cell_type": "code",
   "execution_count": 43,
   "metadata": {},
   "outputs": [
    {
     "name": "stdout",
     "output_type": "stream",
     "text": [
      "<class 'dict'>\n",
      "<class 'dict'>\n",
      "<class 'dict'>\n",
      "<class 'dict'>\n"
     ]
    }
   ],
   "source": [
    "# Check type of the loaded data\n",
    "print(type(Cost))\n",
    "print(type(G))\n",
    "print(type(Coord))\n",
    "print(type(Dist))"
   ]
  },
  {
   "cell_type": "code",
   "execution_count": 44,
   "metadata": {},
   "outputs": [
    {
     "name": "stdout",
     "output_type": "stream",
     "text": [
      "Length of Cost dictionary: 730100\n",
      "Length of G dictionary: 264346\n",
      "Length of Coord dictionary: 264346\n",
      "Length of Dist dictionary: 730100\n"
     ]
    }
   ],
   "source": [
    "# Check the length of the dictionaries\n",
    "print(f\"Length of Cost dictionary: {len(Cost)}\") if isinstance(Cost, (list, dict)) else \"Not a list or dict\"\n",
    "print(f\"Length of G dictionary: {len(G)}\") if isinstance(G, (list, dict)) else \"Not a list or dict\"\n",
    "print(f\"Length of Coord dictionary: {len(Coord)}\") if isinstance(Coord, (list, dict)) else \"Not a list or dict\"\n",
    "print(f\"Length of Dist dictionary: {len(Dist)}\") if isinstance(Dist, (list, dict)) else \"Not a list or dict\""
   ]
  },
  {
   "cell_type": "markdown",
   "metadata": {},
   "source": [
    "### Graph dictionary G\n",
    "- The graph is given as an adjacency list where the neighbor list of node ‘v’ can be accessed with G[‘v’].\n"
   ]
  },
  {
   "cell_type": "code",
   "execution_count": 45,
   "metadata": {},
   "outputs": [
    {
     "name": "stdout",
     "output_type": "stream",
     "text": [
      "Key:  1\n",
      "<class 'list'> ['1363', '12', '2']\n",
      "Key:  2\n",
      "<class 'list'> ['13', '1', '48']\n",
      "Key:  3\n",
      "<class 'list'> ['4', '3874']\n",
      "Key:  4\n",
      "<class 'list'> ['3926', '3', '3937']\n",
      "Key:  5\n",
      "<class 'list'> ['6', '1204', '1214', '1219']\n"
     ]
    }
   ],
   "source": [
    "# Structure of G dictionary\n",
    "def print_structure(data, iterations=5):\n",
    "    i = 0\n",
    "    if isinstance(data, dict):\n",
    "        for key in data:\n",
    "            print(\"Key: \", str(key))\n",
    "            print_structure(data[key])\n",
    "            i += 1\n",
    "            if i >= iterations:\n",
    "                return\n",
    "    else:\n",
    "        print(str(type(data)) + ' ' + str(data))\n",
    "    \n",
    "print_structure(G)"
   ]
  },
  {
   "cell_type": "code",
   "execution_count": 46,
   "metadata": {},
   "outputs": [
    {
     "name": "stdout",
     "output_type": "stream",
     "text": [
      "Neighbouring nodes of node 1:  ['1363', '12', '2']\n"
     ]
    }
   ],
   "source": [
    "# Example usage of G dictionary\n",
    "print(\"Neighbouring nodes of node 1: \", G[\"1\"])"
   ]
  },
  {
   "cell_type": "markdown",
   "metadata": {},
   "source": [
    "### Node coordination dictionary Coord\n",
    "- The coordination of a node ‘v’ is a pair (X, Y) which can be accessed with Coord[‘v’]\n"
   ]
  },
  {
   "cell_type": "code",
   "execution_count": 47,
   "metadata": {},
   "outputs": [
    {
     "name": "stdout",
     "output_type": "stream",
     "text": [
      "Key:  1\n",
      "<class 'list'> [-73530767, 41085396]\n",
      "Key:  2\n",
      "<class 'list'> [-73530538, 41086098]\n",
      "Key:  3\n",
      "<class 'list'> [-73519366, 41048796]\n",
      "Key:  4\n",
      "<class 'list'> [-73519377, 41048654]\n",
      "Key:  5\n",
      "<class 'list'> [-73524567, 41093796]\n"
     ]
    }
   ],
   "source": [
    "print_structure(Coord)"
   ]
  },
  {
   "cell_type": "code",
   "execution_count": 48,
   "metadata": {},
   "outputs": [
    {
     "name": "stdout",
     "output_type": "stream",
     "text": [
      "Coordinates of node 1:  [-73530767, 41085396]\n",
      "Coordinates of node 2:  [-73530538, 41086098]\n"
     ]
    }
   ],
   "source": [
    "# Example usage of Coord dictionary\n",
    "print(\"Coordinates of node 1: \", Coord[\"1\"])\n",
    "print(\"Coordinates of node 2: \", Coord[\"2\"])"
   ]
  },
  {
   "cell_type": "markdown",
   "metadata": {},
   "source": [
    "### Edge distance dictionary Dist\n",
    "The distance between a pair of node (v, w) can be accessed with Dist[‘v,w’]."
   ]
  },
  {
   "cell_type": "code",
   "execution_count": 49,
   "metadata": {},
   "outputs": [
    {
     "name": "stdout",
     "output_type": "stream",
     "text": [
      "Key:  1,2\n",
      "<class 'int'> 803\n",
      "Key:  2,1\n",
      "<class 'int'> 803\n",
      "Key:  3,4\n",
      "<class 'int'> 158\n",
      "Key:  4,3\n",
      "<class 'int'> 158\n",
      "Key:  5,6\n",
      "<class 'float'> 923.7819006670352\n"
     ]
    }
   ],
   "source": [
    "print_structure(Dist)"
   ]
  },
  {
   "cell_type": "code",
   "execution_count": 50,
   "metadata": {},
   "outputs": [
    {
     "name": "stdout",
     "output_type": "stream",
     "text": [
      "Distance between nodes 1 and 2:  803\n"
     ]
    }
   ],
   "source": [
    "# Example usage of Dist dictionary\n",
    "print(\"Distance between nodes 1 and 2: \", Dist[\"1,2\"])"
   ]
  },
  {
   "cell_type": "markdown",
   "metadata": {},
   "source": [
    "### Edge cost dictionary Cost\n",
    "The energy cost between a pair of node (v, w) can be accessed with Cost[‘v,w’.]"
   ]
  },
  {
   "cell_type": "code",
   "execution_count": 51,
   "metadata": {},
   "outputs": [
    {
     "name": "stdout",
     "output_type": "stream",
     "text": [
      "Key:  1,2\n",
      "<class 'int'> 2008\n",
      "Key:  2,1\n",
      "<class 'int'> 2008\n",
      "Key:  3,4\n",
      "<class 'int'> 395\n",
      "Key:  4,3\n",
      "<class 'int'> 395\n",
      "Key:  5,6\n",
      "<class 'int'> 1935\n"
     ]
    }
   ],
   "source": [
    "print_structure(Cost)"
   ]
  },
  {
   "cell_type": "code",
   "execution_count": 52,
   "metadata": {},
   "outputs": [
    {
     "name": "stdout",
     "output_type": "stream",
     "text": [
      "Cost of travelling between node 1 and 2:  2008\n"
     ]
    }
   ],
   "source": [
    "# Example usage of Cost dictionary\n",
    "print(\"Cost of travelling between node 1 and 2: \", Cost[\"1,2\"])"
   ]
  },
  {
   "cell_type": "markdown",
   "metadata": {},
   "source": [
    "### Combining the graphs together\n",
    "- except coordinates"
   ]
  },
  {
   "cell_type": "code",
   "execution_count": 53,
   "metadata": {},
   "outputs": [
    {
     "name": "stdout",
     "output_type": "stream",
     "text": [
      "Key:  1\n",
      "<class 'list'> [{'node': '1363', 'distance': 2428, 'cost': 6070}, {'node': '12', 'distance': 1004.7188661511238, 'cost': 2105}, {'node': '2', 'distance': 803, 'cost': 2008}]\n",
      "Key:  2\n",
      "<class 'list'> [{'node': '13', 'distance': 704.9198536003934, 'cost': 1478}, {'node': '1', 'distance': 803, 'cost': 2008}, {'node': '48', 'distance': 617, 'cost': 1541}]\n",
      "Key:  3\n",
      "<class 'list'> [{'node': '4', 'distance': 158, 'cost': 395}, {'node': '3874', 'distance': 1667, 'cost': 4167}]\n",
      "Key:  4\n",
      "<class 'list'> [{'node': '3926', 'distance': 294.7626163542453, 'cost': 627}, {'node': '3', 'distance': 158, 'cost': 395}, {'node': '3937', 'distance': 725.041378129552, 'cost': 1541}]\n",
      "Key:  5\n",
      "<class 'list'> [{'node': '6', 'distance': 923.7819006670352, 'cost': 1935}, {'node': '1204', 'distance': 2020.3960007879643, 'cost': 4801}, {'node': '1214', 'distance': 1603.1219541881396, 'cost': 3361}, {'node': '1219', 'distance': 3382, 'cost': 8456}]\n"
     ]
    }
   ],
   "source": [
    "combined_graph = {}\n",
    "\n",
    "for node, neighbors in G.items():\n",
    "    combined_graph[node] = []\n",
    "    for neighbor in neighbors:\n",
    "        edge_key = f\"{node},{neighbor}\"\n",
    "        edge_data = {\n",
    "            \"node\": neighbor,\n",
    "            \"distance\": Dist.get(edge_key, float('inf')), # Using inf as a default if no distance is provided\n",
    "            \"cost\": Cost.get(edge_key, float('inf')) # Using inf as a default if no cost is provided\n",
    "        }\n",
    "        combined_graph[node].append(edge_data)\n",
    "\n",
    "print_structure(combined_graph)\n"
   ]
  },
  {
   "cell_type": "markdown",
   "metadata": {},
   "source": [
    "# Task 1\n",
    "\n",
    "You will need to solve a relaxed version of the NYC instance where we do not have the energy\n",
    "constraint. You can use any algorithm we discussed in the lectures. Note that this is equivalent to solving the shortest path problem. The solution quality of your algorithm will affect the grade.\n",
    "\n",
    "### Solution: Dijkstra's Algorithm\n",
    "\n",
    "- Dijkstra's algorithm finds the shortest path from one node to every other node in the graph. (or in our case from one node (S) to a target node(T)) \n",
    "- It starts with a selected initial node & it attempts to find the shortest path to all the other nodes\n",
    "- Quick youtube explanation: https://www.youtube.com/watch?v=_lHSawdgXpI&ab_channel=MichaelSambol\n",
    "\n",
    "1. Initialisation:\n",
    "    - Set the initial node's distance to zero and all other nodes' distances to infinity.\n",
    "    - Maintain a priority queue/set of all the nodes, with nodes prioritized by their current known distance from the start node.\n",
    "\n",
    "2. Iterative exploration:\n",
    "    - Always choose the next node, u, with the shortest known distance from the priority queue (i.e., the node at the front of the queue). This is the node we'll explore next.\n",
    "    - For each of u's neighbors, v, check if the path to v via u is shorter than any previously known path to v. If it is, update v's distance and potentially its position in the priority queue.\n",
    "    - Remove u from the priority queue.\n",
    "    - Repeat the process until the priority queue is empty or you find the target node (dequeue the target node from queue).\n",
    "    \n",
    "** The heap (or priority queue) is crucial because it always provides the node with the current shortest distance without having to scan all nodes. (This is why the algorithm is efficient)"
   ]
  },
  {
   "cell_type": "code",
   "execution_count": 57,
   "metadata": {},
   "outputs": [
    {
     "name": "stdout",
     "output_type": "stream",
     "text": [
      "Shortest path: 1->1363->1358->1357->1356->1276->1273->1277->1269->1267->1268->1284->1283->1282->1255->1253->1260->1259->1249->1246->963->964->962->1002->952->1000->998->994->995->996->987->988->979->980->969->977->989->990->991->2369->2366->2340->2338->2339->2333->2334->2329->2029->2027->2019->2022->2000->1996->1997->1993->1992->1989->1984->2001->1900->1875->1874->1965->1963->1964->1923->1944->1945->1938->1937->1939->1935->1931->1934->1673->1675->1674->1837->1671->1828->1825->1817->1815->1634->1814->1813->1632->1631->1742->1741->1740->1739->1591->1689->1585->1584->1688->1579->1679->1677->104->5680->5418->5431->5425->5424->5422->5413->5412->5411->66->5392->5391->5388->5291->5278->5289->5290->5283->5284->5280->50\n",
      "Shortest distance: 148648.63722140007\n",
      "Total Energy Cost: 294853\n"
     ]
    }
   ],
   "source": [
    "def dijkstra(graph, start, target):\n",
    "    # Initialize distances with infinite values and predecessors to None\n",
    "    distances = {node: float('infinity') for node in graph} # find shortest distance\n",
    "    predecessors = {node: None for node in graph} # keep track of path\n",
    "    distances[start] = 0 # initialise distance of source node to 0 (since shortest path to source node is 0)\n",
    "    priority_queue = [(0, start)] # For efficient look up O(1) of next node to explore\n",
    "\n",
    "    while priority_queue:\n",
    "        current_distance, current_node = heapq.heappop(priority_queue)\n",
    "\n",
    "        # Stop condition for single source-target shortest path\n",
    "        if current_node == target:\n",
    "            break\n",
    "\n",
    "        # Check if current distance is smaller in our set\n",
    "        if current_distance > distances[current_node]:\n",
    "            continue\n",
    "\n",
    "        for neighbor in graph[current_node]:\n",
    "            distance = current_distance + neighbor[\"distance\"]\n",
    "            if distance < distances[neighbor[\"node\"]]:\n",
    "                distances[neighbor[\"node\"]] = distance\n",
    "                predecessors[neighbor[\"node\"]] = current_node\n",
    "                heapq.heappush(priority_queue, (distance, neighbor[\"node\"]))\n",
    "\n",
    "    # Reconstruct the shortest path from the predecessor dictionary\n",
    "    path = []\n",
    "    while target:\n",
    "        path.append(target)\n",
    "        target = predecessors[target]\n",
    "    path.reverse()  # Reverse to get path from start to target\n",
    "\n",
    "    # Calculate the total energy cost\n",
    "    total_energy_cost = 0\n",
    "    for i in range(len(path) - 1):\n",
    "        for neighbor in graph[path[i]]:\n",
    "            if neighbor[\"node\"] == path[i + 1]:\n",
    "                total_energy_cost += neighbor[\"cost\"]\n",
    "                break\n",
    "\n",
    "    return distances[path[-1]], path, total_energy_cost\n",
    "\n",
    "start_node = \"1\"\n",
    "target_node = \"50\"\n",
    "shortest_distance, shortest_path, energy_cost = dijkstra(combined_graph, start_node, target_node)\n",
    "print(\"Shortest path:\", \"->\".join(shortest_path))\n",
    "print(f\"Shortest distance: {shortest_distance}\")\n",
    "print(f\"Total Energy Cost: {energy_cost}\")\n"
   ]
  },
  {
   "cell_type": "markdown",
   "metadata": {},
   "source": [
    "# Task 2\n",
    "\n",
    "You will need to implement an uninformed search algorithm (e.g., the DFS, BFS, UCS) to solve\n",
    "the NYC instance. For tasks 2 and 3, the energy budget is set to be 287932.\n",
    "\n",
    "### Solution: Uniform Cost Search Algorithm\n",
    "\n",
    "- UCS explores the graph based on the cost of the path from the start node to the current node.\n",
    "- We use UCS as our search algo, but with an added check for the energy constraint. \n",
    "- We maintain two costs: The distance (to prioritize path exploration) & the energy cost (to check against the budget constraint).\n",
    "\n",
    "Why UCS?\n",
    "- Prunes path that exceed budget early - saving time as compared to BFS & DFS\n",
    "- Explores path in order of increasing distance (similar to dijkstra) to ensure efficiency in finding shortest path\n",
    "\n",
    "Steps:\n",
    "\n",
    "1. Initialise source node with distance = 0 and energy_cost = 0\n",
    "2. Use a priority queue (heap) to explore nodes efficiently, prioritising distance (since we are still trying to find the shortest path)\n",
    "3. Expand nodes, adding the distance and energy_cost for each child\n",
    "4. If the total_energy_cost > energy_budget , we do not enqueue the child node\n",
    "5. If target node is dequeued (shortest distance in the heap), and energy constraint is satisfied, we return the path found\n"
   ]
  },
  {
   "cell_type": "code",
   "execution_count": 58,
   "metadata": {},
   "outputs": [
    {
     "name": "stdout",
     "output_type": "stream",
     "text": [
      "Shortest path within energy constraint: 1->1363->1358->1357->1356->1276->1273->1277->1269->1267->1268->1284->1283->1282->1255->1253->1260->1259->1249->1246->963->964->962->1002->952->1000->998->994->995->996->987->986->979->980->969->977->989->990->991->2369->2366->2340->2338->2339->2333->2334->2329->2029->2027->2019->2022->2000->1996->1997->1993->1992->1989->1984->2001->1900->1875->1874->1965->1963->1964->1923->1944->1945->1938->1937->1939->1935->1931->1934->1673->1675->1674->1837->1671->1828->1825->1817->1815->1634->1814->1813->1632->1631->1742->1741->1740->1739->1591->1689->1585->1584->1688->1579->1679->1677->104->5680->5418->5431->5425->5429->5426->5428->5434->5435->5433->5436->5398->5404->5402->5396->5395->5292->5282->5283->5284->5280->50\n",
      "Total Distance Traveled: 150784.60722193593\n",
      "Total Energy Cost: 287931\n"
     ]
    }
   ],
   "source": [
    "def ucs_with_energy_constraint(graph, start, target, energy_budget):\n",
    "    visited = set()\n",
    "    # Each item in the priority queue is (distance, energy_cost, current_node, path_so_far)\n",
    "    priority_queue = [(0, 0, start, [])]\n",
    "\n",
    "    while priority_queue:\n",
    "        current_distance, current_energy_cost, current_node, path = heapq.heappop(priority_queue)\n",
    "\n",
    "        if current_node in visited:\n",
    "            continue\n",
    "\n",
    "        new_path = path + [current_node]\n",
    "\n",
    "        # If we reach the target node and satisfy the energy constraint, return the path, distance, and energy cost\n",
    "        if current_node == target:\n",
    "            return new_path, current_distance, current_energy_cost\n",
    "\n",
    "        visited.add(current_node)\n",
    "\n",
    "        for neighbor in graph[current_node]:\n",
    "            if neighbor[\"node\"] not in visited:\n",
    "                # Sum the distance and energy cost to get to this neighbor\n",
    "                new_distance = current_distance + neighbor[\"distance\"]\n",
    "                new_energy_cost = current_energy_cost + neighbor[\"cost\"]\n",
    "\n",
    "                # Only enqueue if the new energy cost is within the budget\n",
    "                if new_energy_cost <= energy_budget:\n",
    "                    heapq.heappush(priority_queue, (new_distance, new_energy_cost, neighbor[\"node\"], new_path))\n",
    "\n",
    "    # Return None if no path found within the energy constraint\n",
    "    return None, None, None\n",
    "\n",
    "energy_budget = 287932\n",
    "start_node = \"1\"\n",
    "target_node = \"50\"\n",
    "shortest_path, shortest_distance, total_energy_cost = ucs_with_energy_constraint(combined_graph, start_node, target_node, energy_budget)\n",
    "if shortest_path:\n",
    "    print(\"Shortest path within energy constraint:\", \"->\".join(shortest_path))\n",
    "    print(f\"Total Distance Traveled: {shortest_distance}\")\n",
    "    print(f\"Total Energy Cost: {total_energy_cost}\")\n",
    "else:\n",
    "    print(\"No path found within the given energy constraint.\")\n"
   ]
  }
 ],
 "metadata": {
  "kernelspec": {
   "display_name": "Python 3",
   "language": "python",
   "name": "python3"
  },
  "language_info": {
   "codemirror_mode": {
    "name": "ipython",
    "version": 3
   },
   "file_extension": ".py",
   "mimetype": "text/x-python",
   "name": "python",
   "nbconvert_exporter": "python",
   "pygments_lexer": "ipython3",
   "version": "3.11.0"
  },
  "orig_nbformat": 4
 },
 "nbformat": 4,
 "nbformat_minor": 2
}
