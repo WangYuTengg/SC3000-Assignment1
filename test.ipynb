{
 "cells": [
  {
   "cell_type": "code",
   "execution_count": null,
   "metadata": {},
   "outputs": [],
   "source": [
    "# Import necessary libraries and packages\n",
    "import json"
   ]
  },
  {
   "cell_type": "code",
   "execution_count": null,
   "metadata": {},
   "outputs": [],
   "source": [
    "# Load json files\n",
    "def load_json_file(filename):\n",
    "    with open(filename, 'r') as file:\n",
    "        data = json.load(file)\n",
    "    return data\n",
    "\n",
    "Cost = load_json_file(\"Cost.json\")\n",
    "G = load_json_file(\"G.json\")\n",
    "Coord = load_json_file(\"Coord.json\")\n",
    "Dist = load_json_file(\"Dist.json\")"
   ]
  },
  {
   "cell_type": "markdown",
   "metadata": {},
   "source": [
    "## Understanding the data "
   ]
  },
  {
   "cell_type": "code",
   "execution_count": null,
   "metadata": {},
   "outputs": [],
   "source": [
    "# Check type of the loaded data\n",
    "print(type(Cost))\n",
    "print(type(G))\n",
    "print(type(Coord))\n",
    "print(type(Dist))"
   ]
  },
  {
   "cell_type": "code",
   "execution_count": null,
   "metadata": {},
   "outputs": [],
   "source": [
    "# Check the length of the dictionaries\n",
    "print(f\"Length of Cost dictionary: {len(Cost)}\") if isinstance(Cost, (list, dict)) else \"Not a list or dict\"\n",
    "print(f\"Length of G dictionary: {len(G)}\") if isinstance(G, (list, dict)) else \"Not a list or dict\"\n",
    "print(f\"Length of Coord dictionary: {len(Coord)}\") if isinstance(Coord, (list, dict)) else \"Not a list or dict\"\n",
    "print(f\"Length of Dist dictionary: {len(Dist)}\") if isinstance(Dist, (list, dict)) else \"Not a list or dict\""
   ]
  },
  {
   "cell_type": "markdown",
   "metadata": {},
   "source": [
    "### Graph dictionary G\n",
    "- The graph is given as an adjacency list where the neighbor list of node ‘v’ can be accessed with G[‘v’].\n"
   ]
  },
  {
   "cell_type": "code",
   "execution_count": null,
   "metadata": {},
   "outputs": [],
   "source": [
    "# Structure of G dictionary\n",
    "def print_structure(data, iterations=5):\n",
    "    i = 0\n",
    "    if isinstance(data, dict):\n",
    "        for key in data:\n",
    "            print(\"Key: \", str(key))\n",
    "            print_structure(data[key])\n",
    "            i += 1\n",
    "            if i >= iterations:\n",
    "                return\n",
    "    else:\n",
    "        print(str(type(data)) + ' ' + str(data))\n",
    "    \n",
    "print_structure(G)"
   ]
  },
  {
   "cell_type": "code",
   "execution_count": null,
   "metadata": {},
   "outputs": [],
   "source": [
    "# Example usage of G dictionary\n",
    "print(\"Neighbouring nodes of node 1: \", G[\"1\"])"
   ]
  },
  {
   "cell_type": "markdown",
   "metadata": {},
   "source": [
    "### Node coordination dictionary Coord\n",
    "- The coordination of a node ‘v’ is a pair (X, Y) which can be accessed with Coord[‘v’]\n"
   ]
  },
  {
   "cell_type": "code",
   "execution_count": null,
   "metadata": {},
   "outputs": [],
   "source": [
    "print_structure(Coord)"
   ]
  },
  {
   "cell_type": "code",
   "execution_count": null,
   "metadata": {},
   "outputs": [],
   "source": [
    "# Example usage of Coord dictionary\n",
    "print(\"Coordinates of node 1: \", Coord[\"1\"])\n",
    "print(\"Coordinates of node 2: \", Coord[\"2\"])"
   ]
  },
  {
   "cell_type": "markdown",
   "metadata": {},
   "source": [
    "### Edge distance dictionary Dist\n",
    "The distance between a pair of node (v, w) can be accessed with Dist[‘v,w’]."
   ]
  },
  {
   "cell_type": "code",
   "execution_count": null,
   "metadata": {},
   "outputs": [],
   "source": [
    "print_structure(Dist)"
   ]
  },
  {
   "cell_type": "code",
   "execution_count": null,
   "metadata": {},
   "outputs": [],
   "source": [
    "# Example usage of Dist dictionary\n",
    "print(\"Distance between nodes 1 and 2: \", Dist[\"1,2\"])"
   ]
  },
  {
   "cell_type": "markdown",
   "metadata": {},
   "source": [
    "### Edge cost dictionary Cost\n",
    "The energy cost between a pair of node (v, w) can be accessed with Cost[‘v,w’.]"
   ]
  },
  {
   "cell_type": "code",
   "execution_count": null,
   "metadata": {},
   "outputs": [],
   "source": [
    "print_structure(Cost)"
   ]
  },
  {
   "cell_type": "code",
   "execution_count": null,
   "metadata": {},
   "outputs": [],
   "source": [
    "# Example usage of Cost dictionary\n",
    "print(\"Cost of travelling between node 1 and 2: \", Cost[\"1,2\"])"
   ]
  },
  {
   "cell_type": "markdown",
   "metadata": {},
   "source": [
    "### Combining the graphs together\n",
    "- except coordinates"
   ]
  },
  {
   "cell_type": "code",
   "execution_count": 97,
   "metadata": {},
   "outputs": [
    {
     "name": "stdout",
     "output_type": "stream",
     "text": [
      "Key:  1\n",
      "<class 'list'> [{'node': '1363', 'distance': 2428, 'cost': 6070}, {'node': '12', 'distance': 1004.7188661511238, 'cost': 2105}, {'node': '2', 'distance': 803, 'cost': 2008}]\n",
      "Key:  2\n",
      "<class 'list'> [{'node': '13', 'distance': 704.9198536003934, 'cost': 1478}, {'node': '1', 'distance': 803, 'cost': 2008}, {'node': '48', 'distance': 617, 'cost': 1541}]\n",
      "Key:  3\n",
      "<class 'list'> [{'node': '4', 'distance': 158, 'cost': 395}, {'node': '3874', 'distance': 1667, 'cost': 4167}]\n",
      "Key:  4\n",
      "<class 'list'> [{'node': '3926', 'distance': 294.7626163542453, 'cost': 627}, {'node': '3', 'distance': 158, 'cost': 395}, {'node': '3937', 'distance': 725.041378129552, 'cost': 1541}]\n",
      "Key:  5\n",
      "<class 'list'> [{'node': '6', 'distance': 923.7819006670352, 'cost': 1935}, {'node': '1204', 'distance': 2020.3960007879643, 'cost': 4801}, {'node': '1214', 'distance': 1603.1219541881396, 'cost': 3361}, {'node': '1219', 'distance': 3382, 'cost': 8456}]\n"
     ]
    }
   ],
   "source": [
    "combined_graph = {}\n",
    "\n",
    "for node, neighbors in G.items():\n",
    "    combined_graph[node] = []\n",
    "    for neighbor in neighbors:\n",
    "        edge_key = f\"{node},{neighbor}\"\n",
    "        edge_data = {\n",
    "            \"node\": neighbor,\n",
    "            \"distance\": Dist.get(edge_key, float('inf')), # Using inf as a default if no distance is provided\n",
    "            \"cost\": Cost.get(edge_key, float('inf')) # Using inf as a default if no cost is provided\n",
    "        }\n",
    "        combined_graph[node].append(edge_data)\n",
    "\n",
    "print_structure(combined_graph)\n"
   ]
  },
  {
   "cell_type": "code",
   "execution_count": null,
   "metadata": {},
   "outputs": [],
   "source": [
    "import math\n",
    "\n",
    "def get_displacement(node_from, node_to):\n",
    "    global Coord\n",
    "    node_from_x, node_from_y = Coord[node_from]\n",
    "    node_to_x, node_to_y = Coord[node_to]\n",
    "    d = math.sqrt(pow(abs(node_from_x-node_to_x),2) + pow(abs(node_from_y-node_to_y),2))\n",
    "    return d\n",
    "\n",
    "print(get_displacement(\"3\",\"4\"))"
   ]
  },
  {
   "cell_type": "code",
   "execution_count": 128,
   "metadata": {},
   "outputs": [
    {
     "name": "stdout",
     "output_type": "stream",
     "text": [
      "Path found:\n",
      "1->1363->1358->1357->1356->1276->1273->1277->1269->1267->1268->1284->1283->1282->1255->1253->1260->1259->1249->1246->963->964->962->1002->952->1000->998->994->995->996->987->988->979->980->969->977->989->990->991->2369->2366->2340->2338->2339->2333->2334->2329->2029->2027->2019->2022->2000->1996->1997->1993->1992->1989->1984->2001->1900->1875->1874->1965->1963->1964->1923->1944->1945->1938->1937->1939->1935->1931->1934->1673->1675->1674->1837->1671->1828->1825->1817->1815->1634->1814->1813->1632->1631->1742->1741->1740->1739->1591->1689->1585->1584->1688->1579->1679->1677->104->5680->5418->5431->5425->5429->5426->5428->5434->5435->5433->5436->5398->5404->5402->5396->5395->5292->5282->5285->5284->5280->50\n",
      "Total Distance: 145180296\n",
      "Total Energy: 311246092\n"
     ]
    }
   ],
   "source": [
    "import heapq\n",
    "\n",
    "distance_counter = 0\n",
    "energy_counter = 0\n",
    "\n",
    "class Node:\n",
    "    def __init__(self, node, parent=None, distance=0, heuristic=0, energy=0):\n",
    "        self.node = node\n",
    "        self.parent = parent\n",
    "        self.distance = distance\n",
    "        self.heuristic = heuristic\n",
    "        self.energy = energy\n",
    "\n",
    "    def __lt__(self, other):\n",
    "        return (self.distance + self.heuristic) < (other.distance + other.heuristic)\n",
    "\n",
    "\n",
    "def astar_search(initial_node, goal_node, heuristic):\n",
    "    global combined_graph, energy_counter, distance_counter\n",
    "    open_list = []\n",
    "    closed_set = set()\n",
    "\n",
    "    initial_node = Node(initial_node, distance=0,\n",
    "                        heuristic=heuristic(initial_node, goal_node))\n",
    "    heapq.heappush(open_list, initial_node)\n",
    "\n",
    "    while open_list:\n",
    "        current_node = heapq.heappop(open_list)\n",
    "\n",
    "        if current_node.node == goal_node:\n",
    "            return reconstruct_path(current_node)\n",
    "\n",
    "        closed_set.add(current_node.node)\n",
    "\n",
    "        for n in get_neighbours(current_node.node):\n",
    "            if current_node.energy > 287932:\n",
    "                continue\n",
    "            if n in closed_set:\n",
    "                continue\n",
    "\n",
    "            e = current_node.energy + int(next(item for item in combined_graph.get(\n",
    "                current_node.node) if item['node'] == n).get('cost'))\n",
    "            \n",
    "            g = current_node.distance + int(next(item for item in combined_graph.get(\n",
    "                current_node.node) if item['node'] == n).get('distance'))\n",
    "            \n",
    "            h = heuristic(n, goal_node)\n",
    "            n = Node(\n",
    "                n,\n",
    "                parent=current_node,\n",
    "                energy=e,\n",
    "                distance=g,\n",
    "                heuristic=h,\n",
    "            )\n",
    "\n",
    "            heapq.heappush(open_list, n)\n",
    "            \n",
    "    return None  # No path found\n",
    "\n",
    "\n",
    "def reconstruct_path(node):\n",
    "    global energy_counter, distance_counter\n",
    "    path = []\n",
    "    while node:\n",
    "        path.append((node.node))\n",
    "        energy_counter += node.energy\n",
    "        distance_counter += node.distance\n",
    "        node = node.parent\n",
    "    path.reverse()\n",
    "    return path\n",
    "\n",
    "\n",
    "# Example usage:\n",
    "if __name__ == \"__main__\":\n",
    "\n",
    "    combined_graph = {}\n",
    "\n",
    "    for node, neighbors in G.items():\n",
    "        combined_graph[node] = []\n",
    "        for neighbor in neighbors:\n",
    "            edge_key = f\"{node},{neighbor}\"\n",
    "            edge_data = {\n",
    "                \"node\": neighbor,\n",
    "                # Using inf as a default if no distance is provided\n",
    "                \"distance\": Dist.get(edge_key, float('inf')),\n",
    "                # Using inf as a default if no cost is provided\n",
    "                \"cost\": Cost.get(edge_key, float('inf'))\n",
    "            }\n",
    "            combined_graph[node].append(edge_data)\n",
    "\n",
    "    # Define your initial node, goal node, get_neighbours function, and heuristic function.\n",
    "    # Example:\n",
    "    initial_node = \"1\"\n",
    "    goal_node = \"50\"\n",
    "    combined_graph\n",
    "\n",
    "    def get_neighbours(node):\n",
    "        global combined_graph\n",
    "        neighbours = []\n",
    "        for n in combined_graph.get(node):\n",
    "            new_node = n['node']\n",
    "            neighbours.append(new_node)\n",
    "        return neighbours\n",
    "\n",
    "    def heuristic(node_from, node_to):\n",
    "        global Coord\n",
    "        node_from_x, node_from_y = Coord[node_from]\n",
    "        node_to_x, node_to_y = Coord[node_to]\n",
    "        d = math.sqrt(pow(abs(node_from_x-node_to_x), 2) +\n",
    "                      pow(abs(node_from_y-node_to_y), 2))\n",
    "        return d\n",
    "\n",
    "    path = astar_search(initial_node, goal_node, heuristic)\n",
    "    if path:\n",
    "        print(\"Path found:\")\n",
    "        for node in path:\n",
    "            if node == \"50\":\n",
    "                print(f\"{node}\")\n",
    "            else:\n",
    "                print(f\"{node}\", end = \"->\")\n",
    "        print(f\"Total Distance: {distance_counter}\")\n",
    "        print(f\"Total Energy: {energy_counter}\")\n",
    "\n",
    "    else:\n",
    "        print(\"No path found.\")\n"
   ]
  }
 ],
 "metadata": {
  "kernelspec": {
   "display_name": "Python 3",
   "language": "python",
   "name": "python3"
  },
  "language_info": {
   "codemirror_mode": {
    "name": "ipython",
    "version": 3
   },
   "file_extension": ".py",
   "mimetype": "text/x-python",
   "name": "python",
   "nbconvert_exporter": "python",
   "pygments_lexer": "ipython3",
   "version": "3.11.5"
  },
  "orig_nbformat": 4
 },
 "nbformat": 4,
 "nbformat_minor": 2
}
