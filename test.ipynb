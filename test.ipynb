{
 "cells": [
  {
   "cell_type": "code",
   "execution_count": 2,
   "metadata": {},
   "outputs": [],
   "source": [
    "import json\n"
   ]
  },
  {
   "cell_type": "code",
   "execution_count": 11,
   "metadata": {},
   "outputs": [],
   "source": [
    "def load_json_file(filename):\n",
    "    with open(filename, 'r') as file:\n",
    "        data = json.load(file)\n",
    "    return data\n",
    "\n",
    "Cost = load_json_file(\"Cost.json\")\n",
    "G = load_json_file(\"G.json\")\n",
    "Coord = load_json_file(\"Coord.json\")\n",
    "Dist = load_json_file(\"Dist.json\")"
   ]
  },
  {
   "cell_type": "code",
   "execution_count": null,
   "metadata": {},
   "outputs": [],
   "source": [
    "# DEFINE LINKEDLIST & NODE CLASSES\n",
    "class Node:\n",
    "    def __init__(self, data):\n",
    "        self.data = data             # Actual data or value of the node\n",
    "        self.next = None             # Pointer to the next node in the list/path\n",
    "        self.explored = False        # Whether this node has been explored\n",
    "\n",
    "        # cost_so_far & distance_so_far are initialised to infinite by default \n",
    "        self.cost_so_far = float('inf') # The cost to reach this node from the start. \n",
    "        self.distance_so_far = float('inf')\n",
    "        self.heuristic = float('inf') if self.cost_so_far > 287932 else 0.5*(self.cost_so_far) + 0.5*(self.distance_so_far) # if cost goes over limit, heuristic goes to infinity (weights are tentative)\n",
    "        self.parent = None           # Pointer to the parent node that leads to this node\n",
    "\n",
    "    def total_cost(self):           # Total estimated cost for A* (f = g + h)\n",
    "        return self.cost_so_far + self.heuristic\n",
    "\n",
    "class LinkedList:\n",
    "    def __init__(self):\n",
    "        self.head = None\n",
    "\n",
    "    def insert_at_end(self, data):\n",
    "        new_node = Node(data)\n",
    "        if not self.head:\n",
    "            self.head = new_node\n",
    "            return\n",
    "        last_node = self.head\n",
    "        while last_node.next:\n",
    "            last_node = last_node.next\n",
    "        last_node.next = new_node\n",
    "\n",
    "    def insert_at_beginning(self, data):\n",
    "        new_node = Node(data)\n",
    "        new_node.next = self.head\n",
    "        self.head = new_node\n",
    "\n",
    "    def delete_node(self, key):\n",
    "        current_node = self.head\n",
    "        if current_node and current_node.data == key:\n",
    "            self.head = current_node.next\n",
    "            current_node = None\n",
    "            return\n",
    "        prev_node = None\n",
    "        while current_node and current_node.data != key:\n",
    "            prev_node = current_node\n",
    "            current_node = current_node.next\n",
    "        if not current_node:\n",
    "            return\n",
    "        prev_node.next = current_node.next\n",
    "        current_node = None\n",
    "\n",
    "    def display(self):\n",
    "        nodes = []\n",
    "        current_node = self.head\n",
    "        while current_node:\n",
    "            nodes.append(current_node.data)\n",
    "            current_node = current_node.next\n",
    "        print(\" -> \".join(map(str, nodes)))\n",
    "\n",
    "# Example usage:\n",
    "ll = LinkedList()\n",
    "ll.insert_at_end(5)\n",
    "ll.insert_at_end(10)\n",
    "ll.insert_at_beginning(3)\n",
    "ll.display()  # Outputs: 3 -> 5 -> 10\n",
    "ll.delete_node(5)\n",
    "ll.display()  # Outputs: 3 -> 10\n"
   ]
  },
  {
   "cell_type": "code",
   "execution_count": 10,
   "metadata": {},
   "outputs": [
    {
     "name": "stdout",
     "output_type": "stream",
     "text": [
      "803\n"
     ]
    }
   ],
   "source": [
    "print(Dist.get(\"1,2\"))"
   ]
  }
 ],
 "metadata": {
  "kernelspec": {
   "display_name": "Python 3",
   "language": "python",
   "name": "python3"
  },
  "language_info": {
   "codemirror_mode": {
    "name": "ipython",
    "version": 3
   },
   "file_extension": ".py",
   "mimetype": "text/x-python",
   "name": "python",
   "nbconvert_exporter": "python",
   "pygments_lexer": "ipython3",
   "version": "3.11.0"
  },
  "orig_nbformat": 4
 },
 "nbformat": 4,
 "nbformat_minor": 2
}
